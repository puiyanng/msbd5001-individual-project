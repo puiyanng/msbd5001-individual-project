{
 "cells": [
  {
   "cell_type": "code",
   "execution_count": 4,
   "metadata": {},
   "outputs": [],
   "source": [
    "import pandas as pd\n",
    "import numpy as np\n",
    "import matplotlib.pyplot as plt\n",
    "import sklearn.linear_model as skl\n",
    "from sklearn.model_selection import cross_val_score\n",
    "from sklearn.model_selection import train_test_split\n",
    "from sklearn.ensemble import GradientBoostingRegressor\n",
    "from sklearn.neighbors import KNeighborsRegressor\n",
    "from sklearn import svm\n",
    "from sklearn.metrics import mean_squared_error, r2_score\n",
    "from math import sqrt\n",
    "\n",
    "trainDataframe = pd.read_csv(\"processed_data/preprocessed_data_v1_g_c_train.csv\")"
   ]
  },
  {
   "cell_type": "code",
   "execution_count": 5,
   "metadata": {},
   "outputs": [],
   "source": [
    "trainDataframe.set_index(\"id\", inplace=True)\n",
    "#trainDataframe.reset_index().set_index(\"index\")\n",
    "# trainDataframe"
   ]
  },
  {
   "cell_type": "code",
   "execution_count": 6,
   "metadata": {},
   "outputs": [],
   "source": [
    "X = trainDataframe.drop([\"playtime_forever\"], axis=1)\n",
    "y = trainDataframe[\"playtime_forever\"]"
   ]
  },
  {
   "cell_type": "code",
   "execution_count": null,
   "metadata": {},
   "outputs": [],
   "source": [
    "sklearn.model_selection.GridSearchCV"
   ]
  },
  {
   "cell_type": "code",
   "execution_count": 7,
   "metadata": {},
   "outputs": [
    {
     "name": "stdout",
     "output_type": "stream",
     "text": [
      "(357, 52)\n",
      "(357,)\n",
      "(90, 52)\n"
     ]
    }
   ],
   "source": [
    "\n",
    "#X_train, X_test, y_train, y_test = train_test_split(\n",
    "#   X, y, test_size=0.2, random_state=0)\n",
    "\n",
    "#print(X_train.shape)\n",
    "#print(y_train.shape)\n",
    "#print(y_test.shape)\n",
    "\n",
    "testDF = pd.read_csv(\"processed_data/preprocessed_data_v1_g_c_test.csv\")\n",
    "#testDF.reset_index().set_index(\"index\", inplace = True)\n",
    "testDF.set_index(\"id\", inplace = True)\n",
    "#print(testDF.shape)\n",
    "#print(X_train.shape)\n",
    "#predict_y = model.predict(testDF)\n",
    "\n",
    "\n",
    "X_testDF = testDF\n",
    "\n",
    "print(X.shape)\n",
    "print(y.shape)\n",
    "print(X_testDF.shape)\n",
    "#testResult.to_csv(\"result.csv\", index=False)"
   ]
  },
  {
   "cell_type": "code",
   "execution_count": 8,
   "metadata": {},
   "outputs": [
    {
     "name": "stdout",
     "output_type": "stream",
     "text": [
      "========TRAIN =============\n",
      "Mean squared error: 9.18\n",
      "===========TEST=========================\n"
     ]
    },
    {
     "name": "stderr",
     "output_type": "stream",
     "text": [
      "/Users/yuking/miniconda3/lib/python3.7/site-packages/sklearn/linear_model/base.py:503: RuntimeWarning: internal gelsd driver lwork query error, required iwork dimension not returned. This is likely the result of LAPACK bug 0038, fixed in LAPACK 3.2.2 (released July 21, 2010). Falling back to 'gelss' driver.\n",
      "  linalg.lstsq(X, y)\n"
     ]
    },
    {
     "data": {
      "image/png": "[encoded data removed]",
      "text/plain": [
       "<Figure size 432x288 with 1 Axes>"
      ]
     },
     "metadata": {
      "needs_background": "light"
     },
     "output_type": "display_data"
    }
   ],
   "source": [
    "model = skl.LinearRegression()\n",
    "model.fit(X, y)\n",
    "\n",
    "predict_y = model.predict(X)\n",
    "\n",
    "print('========TRAIN =============')\n",
    "# The coefficients\n",
    "#print('Coefficients: \\n', model.coef_)\n",
    "# The mean squared error\n",
    "print(\"Mean squared error: %.2f\"\n",
    "      % sqrt(mean_squared_error(y, predict_y)))\n",
    "# Explained variance score: 1 is perfect prediction\n",
    "#print('Variance score: %.2f' % r2_score(y_train, predict_y))\n",
    "\n",
    "print('===========TEST=========================')\n",
    "predict_y = model.predict(X_testDF)\n",
    "# The mean squared error\n",
    "#print(\"Mean squared error: %.2f\"\n",
    "#      % mean_squared_error(y_test, predict_y))\n",
    "# Plot outputs\n",
    "#plt.scatter(X_test.iloc[:,1], y_test,  color='black')\n",
    "plt.scatter(X_testDF.iloc[:,1], predict_y, color='blue', linewidth=3)\n",
    "\n",
    "# Explained variance score: 1 is perfect prediction\n",
    "#print('Variance score: %.2f' % r2_score(y_test, predict_y))\n",
    "\n",
    "\n",
    "#plt.xticks(())\n",
    "#plt.yticks(())\n",
    "\n",
    "plt.show()\n",
    "\n",
    "#print(\"training accuracy:\", (predict_y == y_train).sum()/ len(predict_y))\n",
    "\n",
    "#predict_y = model.predict(X_test, axis = 1)\n",
    "#print(\"testing accuracy:\", (predict_y == y_test).sum()/ len(predict_y))"
   ]
  },
  {
   "cell_type": "code",
   "execution_count": 58,
   "metadata": {},
   "outputs": [
    {
     "name": "stdout",
     "output_type": "stream",
     "text": [
      "========TRAIN =============\n",
      "Mean squared error: 10.13\n",
      "===========TEST=========================\n"
     ]
    },
    {
     "data": {
      "image/png": "[encoded data removed]",
      "text/plain": [
       "<Figure size 432x288 with 1 Axes>"
      ]
     },
     "metadata": {
      "needs_background": "light"
     },
     "output_type": "display_data"
    }
   ],
   "source": [
    "model = GradientBoostingRegressor(learning_rate=0.01, n_estimators=50,max_depth=3, min_samples_split=2, min_samples_leaf=2, subsample=1,max_features='sqrt', random_state=10)\n",
    "model.fit(X,y)\n",
    "\n",
    "predict_y = model.predict(X)\n",
    "\n",
    "print('========TRAIN =============')\n",
    "# The coefficients\n",
    "#print('Coefficients: \\n', model.coef_)\n",
    "# The mean squared error\n",
    "print(\"Mean squared error: %.2f\"\n",
    "      % sqrt(mean_squared_error(y, predict_y)))\n",
    "# Explained variance score: 1 is perfect prediction\n",
    "#print('Variance score: %.2f' % r2_score(y_train, predict_y))\n",
    "\n",
    "print('===========TEST=========================')\n",
    "predict_y = model.predict(X_testDF)\n",
    "plt.scatter(X_testDF.iloc[:,1], predict_y, color='blue', linewidth=3)\n",
    "plt.show()"
   ]
  },
  {
   "cell_type": "code",
   "execution_count": 56,
   "metadata": {},
   "outputs": [
    {
     "name": "stdout",
     "output_type": "stream",
     "text": [
      "========TRAIN =============\n",
      "Mean squared error: 9.64\n",
      "===========TEST=========================\n"
     ]
    },
    {
     "data": {
      "image/png": "[encoded data removed]",
      "text/plain": [
       "<Figure size 432x288 with 1 Axes>"
      ]
     },
     "metadata": {
      "needs_background": "light"
     },
     "output_type": "display_data"
    }
   ],
   "source": [
    "model = KNeighborsRegressor(n_neighbors=6)\n",
    "model.fit(X,y)\n",
    "\n",
    "predict_y = model.predict(X)\n",
    "\n",
    "print('========TRAIN =============')\n",
    "# The coefficients\n",
    "#print('Coefficients: \\n', model.coef_)\n",
    "# The mean squared error\n",
    "print(\"Mean squared error: %.2f\"\n",
    "      % sqrt(mean_squared_error(y, predict_y)))\n",
    "# Explained variance score: 1 is perfect prediction\n",
    "#print('Variance score: %.2f' % r2_score(y_train, predict_y))\n",
    "\n",
    "print('===========TEST=========================')\n",
    "predict_y = model.predict(X_testDF)\n",
    "plt.scatter(X_testDF.iloc[:,1], predict_y, color='blue', linewidth=3)\n",
    "plt.show()"
   ]
  },
  {
   "cell_type": "code",
   "execution_count": 59,
   "metadata": {},
   "outputs": [],
   "source": [
    "df = pd.DataFrame({'playtime_forever':predict_y})\n",
    "df[df < 0] = 0\n",
    "df.index.name = 'id'\n",
    "df\n",
    "df.to_csv('result_gbregressor_50_t.csv',index=True)"
   ]
  },
  {
   "cell_type": "code",
   "execution_count": null,
   "metadata": {},
   "outputs": [],
   "source": []
  }
 ],
 "metadata": {
  "kernelspec": {
   "display_name": "Python 3",
   "language": "python",
   "name": "python3"
  },
  "language_info": {
   "codemirror_mode": {
    "name": "ipython",
    "version": 3
   },
   "file_extension": ".py",
   "mimetype": "text/x-python",
   "name": "python",
   "nbconvert_exporter": "python",
   "pygments_lexer": "ipython3",
   "version": "3.7.1"
  }
 },
 "nbformat": 4,
 "nbformat_minor": 2
}
